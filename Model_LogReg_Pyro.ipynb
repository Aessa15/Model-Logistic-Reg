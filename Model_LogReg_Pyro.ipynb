{
 "metadata": {
  "language_info": {
   "codemirror_mode": {
    "name": "ipython",
    "version": 3
   },
   "file_extension": ".py",
   "mimetype": "text/x-python",
   "name": "python",
   "nbconvert_exporter": "python",
   "pygments_lexer": "ipython3",
   "version": "3.8.3-final"
  },
  "orig_nbformat": 2,
  "kernelspec": {
   "name": "python3",
   "display_name": "Python 3.8.3 64-bit ('Honeyz': virtualenv)",
   "metadata": {
    "interpreter": {
     "hash": "23253deaa44fc8808375d0438997a72d943f96b17c9c832de56565a7ac5f0797"
    }
   }
  }
 },
 "nbformat": 4,
 "nbformat_minor": 2,
 "cells": [
  {
   "cell_type": "code",
   "execution_count": 1,
   "metadata": {},
   "outputs": [],
   "source": [
    "import numpy as np\n",
    "import matplotlib.pyplot as plt\n",
    "import pandas as pd\n",
    "from sklearn.model_selection import train_test_split\n",
    "from sklearn.metrics import mean_squared_error, mean_absolute_error\n",
    "from sklearn.preprocessing import StandardScaler\n",
    "from sklearn.multioutput import MultiOutputRegressor\n",
    "from sklearn.linear_model import LogisticRegression\n",
    "import statsmodels.api as sm\n",
    "import os\n"
   ]
  },
  {
   "cell_type": "code",
   "execution_count": 2,
   "metadata": {},
   "outputs": [
    {
     "output_type": "execute_result",
     "data": {
      "text/plain": [
       "     C% Biomass  H% Biomass  O% Biomass  N% Biomass  C% HDPE  H% HDPE  \\\n",
       "0            63           8           3           0       85       14   \n",
       "1            63           8           3           0       85       14   \n",
       "2            63           8           3           0       85       14   \n",
       "3            63           8           3           0       85       14   \n",
       "4            63           8           3           0       85       14   \n",
       "..          ...         ...         ...         ...      ...      ...   \n",
       "242          58           6          34           2        0        0   \n",
       "243          58           6          34           2        0        0   \n",
       "244          58           6          34           2        0        0   \n",
       "245          58           6          34           2        0        0   \n",
       "246          58           6          34           2        0        0   \n",
       "\n",
       "     O% HDPE  N% HDPE  C% PS  H% PS  O% PS  N% PS  Time  Rate  Ratio  Temp  \\\n",
       "0          0        0      0      0      0      0     0     5     66   500   \n",
       "1          0        0      0      0      0      0     0     5    100   500   \n",
       "2          0        0      0      0      0      0     0     5     50   500   \n",
       "3          0        0      0      0      0      0     0     5     33   500   \n",
       "4          0        0      0      0      0      0     0     5      0   500   \n",
       "..       ...      ...    ...    ...    ...    ...   ...   ...    ...   ...   \n",
       "242        0        0     91      8      0      0    30   100     60   550   \n",
       "243        0        0     91      8      0      0    30   100     61   550   \n",
       "244        0        0     91      8      0      0    30   100     63   550   \n",
       "245        0        0     91      8      0      0    30   100     64   550   \n",
       "246        0        0     91      8      0      0    30   100     66   550   \n",
       "\n",
       "     Oil%  Char%  Gas%  \n",
       "0      60     10    28  \n",
       "1      56      0    44  \n",
       "2      45     17    36  \n",
       "3      44     23    32  \n",
       "4      25     34    39  \n",
       "..    ...    ...   ...  \n",
       "242    16     15    13  \n",
       "243    15     14    13  \n",
       "244    15     14    13  \n",
       "245    14     13    13  \n",
       "246    14     13    13  \n",
       "\n",
       "[247 rows x 19 columns]"
      ],
      "text/html": "<div>\n<style scoped>\n    .dataframe tbody tr th:only-of-type {\n        vertical-align: middle;\n    }\n\n    .dataframe tbody tr th {\n        vertical-align: top;\n    }\n\n    .dataframe thead th {\n        text-align: right;\n    }\n</style>\n<table border=\"1\" class=\"dataframe\">\n  <thead>\n    <tr style=\"text-align: right;\">\n      <th></th>\n      <th>C% Biomass</th>\n      <th>H% Biomass</th>\n      <th>O% Biomass</th>\n      <th>N% Biomass</th>\n      <th>C% HDPE</th>\n      <th>H% HDPE</th>\n      <th>O% HDPE</th>\n      <th>N% HDPE</th>\n      <th>C% PS</th>\n      <th>H% PS</th>\n      <th>O% PS</th>\n      <th>N% PS</th>\n      <th>Time</th>\n      <th>Rate</th>\n      <th>Ratio</th>\n      <th>Temp</th>\n      <th>Oil%</th>\n      <th>Char%</th>\n      <th>Gas%</th>\n    </tr>\n  </thead>\n  <tbody>\n    <tr>\n      <th>0</th>\n      <td>63</td>\n      <td>8</td>\n      <td>3</td>\n      <td>0</td>\n      <td>85</td>\n      <td>14</td>\n      <td>0</td>\n      <td>0</td>\n      <td>0</td>\n      <td>0</td>\n      <td>0</td>\n      <td>0</td>\n      <td>0</td>\n      <td>5</td>\n      <td>66</td>\n      <td>500</td>\n      <td>60</td>\n      <td>10</td>\n      <td>28</td>\n    </tr>\n    <tr>\n      <th>1</th>\n      <td>63</td>\n      <td>8</td>\n      <td>3</td>\n      <td>0</td>\n      <td>85</td>\n      <td>14</td>\n      <td>0</td>\n      <td>0</td>\n      <td>0</td>\n      <td>0</td>\n      <td>0</td>\n      <td>0</td>\n      <td>0</td>\n      <td>5</td>\n      <td>100</td>\n      <td>500</td>\n      <td>56</td>\n      <td>0</td>\n      <td>44</td>\n    </tr>\n    <tr>\n      <th>2</th>\n      <td>63</td>\n      <td>8</td>\n      <td>3</td>\n      <td>0</td>\n      <td>85</td>\n      <td>14</td>\n      <td>0</td>\n      <td>0</td>\n      <td>0</td>\n      <td>0</td>\n      <td>0</td>\n      <td>0</td>\n      <td>0</td>\n      <td>5</td>\n      <td>50</td>\n      <td>500</td>\n      <td>45</td>\n      <td>17</td>\n      <td>36</td>\n    </tr>\n    <tr>\n      <th>3</th>\n      <td>63</td>\n      <td>8</td>\n      <td>3</td>\n      <td>0</td>\n      <td>85</td>\n      <td>14</td>\n      <td>0</td>\n      <td>0</td>\n      <td>0</td>\n      <td>0</td>\n      <td>0</td>\n      <td>0</td>\n      <td>0</td>\n      <td>5</td>\n      <td>33</td>\n      <td>500</td>\n      <td>44</td>\n      <td>23</td>\n      <td>32</td>\n    </tr>\n    <tr>\n      <th>4</th>\n      <td>63</td>\n      <td>8</td>\n      <td>3</td>\n      <td>0</td>\n      <td>85</td>\n      <td>14</td>\n      <td>0</td>\n      <td>0</td>\n      <td>0</td>\n      <td>0</td>\n      <td>0</td>\n      <td>0</td>\n      <td>0</td>\n      <td>5</td>\n      <td>0</td>\n      <td>500</td>\n      <td>25</td>\n      <td>34</td>\n      <td>39</td>\n    </tr>\n    <tr>\n      <th>...</th>\n      <td>...</td>\n      <td>...</td>\n      <td>...</td>\n      <td>...</td>\n      <td>...</td>\n      <td>...</td>\n      <td>...</td>\n      <td>...</td>\n      <td>...</td>\n      <td>...</td>\n      <td>...</td>\n      <td>...</td>\n      <td>...</td>\n      <td>...</td>\n      <td>...</td>\n      <td>...</td>\n      <td>...</td>\n      <td>...</td>\n      <td>...</td>\n    </tr>\n    <tr>\n      <th>242</th>\n      <td>58</td>\n      <td>6</td>\n      <td>34</td>\n      <td>2</td>\n      <td>0</td>\n      <td>0</td>\n      <td>0</td>\n      <td>0</td>\n      <td>91</td>\n      <td>8</td>\n      <td>0</td>\n      <td>0</td>\n      <td>30</td>\n      <td>100</td>\n      <td>60</td>\n      <td>550</td>\n      <td>16</td>\n      <td>15</td>\n      <td>13</td>\n    </tr>\n    <tr>\n      <th>243</th>\n      <td>58</td>\n      <td>6</td>\n      <td>34</td>\n      <td>2</td>\n      <td>0</td>\n      <td>0</td>\n      <td>0</td>\n      <td>0</td>\n      <td>91</td>\n      <td>8</td>\n      <td>0</td>\n      <td>0</td>\n      <td>30</td>\n      <td>100</td>\n      <td>61</td>\n      <td>550</td>\n      <td>15</td>\n      <td>14</td>\n      <td>13</td>\n    </tr>\n    <tr>\n      <th>244</th>\n      <td>58</td>\n      <td>6</td>\n      <td>34</td>\n      <td>2</td>\n      <td>0</td>\n      <td>0</td>\n      <td>0</td>\n      <td>0</td>\n      <td>91</td>\n      <td>8</td>\n      <td>0</td>\n      <td>0</td>\n      <td>30</td>\n      <td>100</td>\n      <td>63</td>\n      <td>550</td>\n      <td>15</td>\n      <td>14</td>\n      <td>13</td>\n    </tr>\n    <tr>\n      <th>245</th>\n      <td>58</td>\n      <td>6</td>\n      <td>34</td>\n      <td>2</td>\n      <td>0</td>\n      <td>0</td>\n      <td>0</td>\n      <td>0</td>\n      <td>91</td>\n      <td>8</td>\n      <td>0</td>\n      <td>0</td>\n      <td>30</td>\n      <td>100</td>\n      <td>64</td>\n      <td>550</td>\n      <td>14</td>\n      <td>13</td>\n      <td>13</td>\n    </tr>\n    <tr>\n      <th>246</th>\n      <td>58</td>\n      <td>6</td>\n      <td>34</td>\n      <td>2</td>\n      <td>0</td>\n      <td>0</td>\n      <td>0</td>\n      <td>0</td>\n      <td>91</td>\n      <td>8</td>\n      <td>0</td>\n      <td>0</td>\n      <td>30</td>\n      <td>100</td>\n      <td>66</td>\n      <td>550</td>\n      <td>14</td>\n      <td>13</td>\n      <td>13</td>\n    </tr>\n  </tbody>\n</table>\n<p>247 rows × 19 columns</p>\n</div>"
     },
     "metadata": {},
     "execution_count": 2
    }
   ],
   "source": [
    "dir_p = r'C:\\Users\\Honeyz\\Desktop\\Aessa\\THE_SIS\\PyroDataProcessed.csv'\n",
    "raw_dataset = pd.read_csv(dir_p, skipinitialspace=True)\n",
    "\n",
    "dataset = raw_dataset.copy()\n",
    "dataset = dataset.dropna()\n",
    "dataset = dataset.astype(int)\n",
    "dataset\n"
   ]
  },
  {
   "cell_type": "code",
   "execution_count": 3,
   "metadata": {},
   "outputs": [],
   "source": [
    "#The following script divides data into attributes and labels:\n",
    "X = dataset.iloc[:, :16].values\n",
    "y = dataset.iloc[:, 16:].values\n",
    "\n",
    "#divide the data into training and testing sets\n",
    "X_train, X_test, y_train, y_test = train_test_split(X, y, test_size=0.2, random_state=0)"
   ]
  },
  {
   "source": [
    "# Feature Scaling\n",
    "sc_X = StandardScaler()\n",
    "sc_y = StandardScaler()\n",
    "X = sc_X.fit_transform(X_train)\n",
    "y = sc_y.fit_transform(y_train)"
   ],
   "cell_type": "code",
   "metadata": {},
   "execution_count": 4,
   "outputs": []
  },
  {
   "cell_type": "code",
   "execution_count": 5,
   "metadata": {},
   "outputs": [],
   "source": [
    "logreg = LogisticRegression()\n",
    "\n",
    "# Create the Multioutput Regressor\n",
    "mor = MultiOutputRegressor(logreg)\n",
    "\n"
   ]
  },
  {
   "cell_type": "code",
   "execution_count": 6,
   "metadata": {},
   "outputs": [
    {
     "output_type": "stream",
     "name": "stdout",
     "text": [
      "MSE for first regressor: 49.92 - second regressor: 22.0- Third regressor: 6.56\nMAE for first regressor: 3.88 - second regressor: 3.56- second regressor: 1.76\n"
     ]
    }
   ],
   "source": [
    "# Train the regressor\n",
    "mor = mor.fit(X_train, y_train)\n",
    "\n",
    "# Generate predictions for testing data\n",
    "y_pred = mor.predict(X_test)\n",
    "\n",
    "# Evaluate the regressor\n",
    "mse_one = mean_squared_error(y_test[:,0], y_pred[:,0])\n",
    "mse_two = mean_squared_error(y_test[:,1], y_pred[:,1])\n",
    "mse_three = mean_squared_error(y_test[:,2], y_pred[:,2])\n",
    "print(f'MSE for first regressor: {mse_one} - second regressor: {mse_two}- Third regressor: {mse_three}')\n",
    "mae_one = mean_absolute_error(y_test[:,0], y_pred[:,0])\n",
    "mae_two = mean_absolute_error(y_test[:,1], y_pred[:,1])\n",
    "mae_three = mean_absolute_error(y_test[:,2], y_pred[:,2])\n",
    "print(f'MAE for first regressor: {mae_one} - second regressor: {mae_two}- second regressor: {mae_three}')\n"
   ]
  },
  {
   "cell_type": "code",
   "execution_count": null,
   "metadata": {},
   "outputs": [],
   "source": []
  }
 ]
}